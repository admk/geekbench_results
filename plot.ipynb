{
 "cells": [
  {
   "cell_type": "code",
   "execution_count": 30,
   "metadata": {},
   "outputs": [
    {
     "data": {
      "image/png": "[encoded data removed]",
      "text/plain": [
       "<Figure size 432x288 with 1 Axes>"
      ]
     },
     "metadata": {
      "needs_background": "light"
     },
     "output_type": "display_data"
    }
   ],
   "source": [
    "%matplotlib inline\n",
    "import csv\n",
    "from collections import Counter\n",
    "\n",
    "from matplotlib import pyplot\n",
    "\n",
    "\n",
    "reader = csv.DictReader(open('results.csv', 'r', encoding='utf8'))\n",
    "scores = []\n",
    "frameworks = Counter()\n",
    "systems = Counter()\n",
    "for row in reader:\n",
    "    frameworks[row['framework']] += 1\n",
    "    systems[row['system']] += 1\n",
    "    scores.append(int(row['score']))\n",
    "\n",
    "pyplot.hist(scores, bins=100)\n",
    "pyplot.show()"
   ]
  },
  {
   "cell_type": "code",
   "execution_count": 27,
   "metadata": {},
   "outputs": [
    {
     "data": {
      "text/plain": [
       "Counter({'TensorFlow Lite CPU': 18284,\n",
       "         'TensorFlow Lite NNAPI': 1374,\n",
       "         'TensorFlow Lite GPU': 5840,\n",
       "         'TensorFlow Lite Core ML': 4472})"
      ]
     },
     "execution_count": 27,
     "metadata": {},
     "output_type": "execute_result"
    }
   ],
   "source": [
    "frameworks"
   ]
  },
  {
   "cell_type": "code",
   "execution_count": 28,
   "metadata": {},
   "outputs": [
    {
     "data": {
      "text/plain": [
       "Counter({'Qualcomm Qualcomm1708 MHz(8 cores)': 78,\n",
       "         'ARM Qualcomm1804 MHz(8 cores)': 989,\n",
       "         'Apple A14 Bionic2990 MHz(6 cores)': 4165,\n",
       "         'ARM ARMv81803 MHz(8 cores)': 726,\n",
       "         'Apple A15 Bionic3230 MHz(6 cores)': 5103,\n",
       "         'Apple A91849 MHz(2 cores)': 636,\n",
       "         'ARM MT6785V/CD2000 MHz(8 cores)': 28,\n",
       "         'Apple M13190 MHz(8 cores)': 1887,\n",
       "         'Apple A10 Fusion2340 MHz(2 cores)': 1147,\n",
       "         'Apple A12 Bionic2490 MHz(6 cores)': 2800,\n",
       "         'ARM SM83501804 MHz(8 cores)': 135,\n",
       "         'ARM2653 MHz(6 cores)': 3,\n",
       "         'Qualcomm Qualcomm1785 MHz(8 cores)': 586,\n",
       "         'Apple A13 Bionic2660 MHz(6 cores)': 3066,\n",
       "         'Apple A91800 MHz(2 cores)': 394,\n",
       "         'Qualcomm Qualcomm1900 MHz(8 cores)': 78,\n",
       "         'ARMv82002 MHz(8 cores)': 112,\n",
       "         'Qualcomm Qualcomm1804 MHz(8 cores)': 493,\n",
       "         'ARM2658 MHz(6 cores)': 26,\n",
       "         'ARM ARMv81352 MHz(8 cores)': 4,\n",
       "         'ARM2659 MHz(6 cores)': 11,\n",
       "         'ARM Qualcomm2016 MHz(8 cores)': 24,\n",
       "         'ARM MT6853V/TNZA2000 MHz(8 cores)': 16,\n",
       "         'ARM ARMv81742 MHz(8 cores)': 78,\n",
       "         'Apple A15 Bionic2920 MHz(6 cores)': 338,\n",
       "         'Apple A12X Bionic2490 MHz(8 cores)': 353,\n",
       "         'Apple A12Z Bionic2490 MHz(8 cores)': 470,\n",
       "         'Apple A11 Bionic2390 MHz(6 cores)': 2809,\n",
       "         'ARM3195 MHz(8 cores)': 2,\n",
       "         'ARMv81794 MHz(8 cores)': 104,\n",
       "         'ARM2661 MHz(6 cores)': 14,\n",
       "         'Qualcomm Qualcomm1766 MHz(8 cores)': 224,\n",
       "         'ARM ARMv81804 MHz(8 cores)': 251,\n",
       "         'Apple A10 Fusion2320 MHz(2 cores)': 350,\n",
       "         'ARM Haydn1804 MHz(8 cores)': 20,\n",
       "         'ARM MT6765V/CA2301 MHz(8 cores)': 4,\n",
       "         'ARM MT6853V/NZA2000 MHz(8 cores)': 15,\n",
       "         'ARM Unisoc1820 MHz(8 cores)': 29,\n",
       "         'ARM ARMv82210 MHz(8 cores)': 251,\n",
       "         'ARMv81690 MHz(8 cores)': 51,\n",
       "         'ARMv81950 MHz(8 cores)': 167,\n",
       "         'ARM MT6762V/WB2001 MHz(8 cores)': 6,\n",
       "         'ARM ARMv82002 MHz(8 cores)': 12,\n",
       "         'Qualcomm Qualcomm2208 MHz(8 cores)': 5,\n",
       "         'ARM Qualcomm1708 MHz(8 cores)': 18,\n",
       "         'ARM MT6769V/CT1800 MHz(8 cores)': 18,\n",
       "         'Hisilicon1805 MHz(8 cores)': 68,\n",
       "         'ARM ARMv81785 MHz(8 cores)': 21,\n",
       "         'ARM Hisilicon1844 MHz(8 cores)': 10,\n",
       "         'ARM MT6769H1800 MHz(8 cores)': 10,\n",
       "         'ARM2656 MHz(6 cores)': 16,\n",
       "         'ARM MT6893Z_A/CZA2000 MHz(8 cores)': 35,\n",
       "         'ARM ARMv81794 MHz(8 cores)': 14,\n",
       "         'ARM MT6833V/NZA2000 MHz(8 cores)': 5,\n",
       "         'ARM MT6785V/CC2000 MHz(8 cores)': 73,\n",
       "         'ARM Renoir1900 MHz(8 cores)': 22,\n",
       "         'ARM MT6771V/W1989 MHz(8 cores)': 7,\n",
       "         'ARM Vili1804 MHz(8 cores)': 34,\n",
       "         'ARM T618-Unisoc2002 MHz(8 cores)': 3,\n",
       "         'ARM Hisilicon1709 MHz(8 cores)': 28,\n",
       "         'ARM MT6769Z1800 MHz(8 cores)': 22,\n",
       "         'ARM MT67852000 MHz(8 cores)': 25,\n",
       "         'vendor1805 MHz(8 cores)': 17,\n",
       "         'Apple A10X Fusion2340 MHz(3 cores)': 261,\n",
       "         'Apple A81500 MHz(2 cores)': 44,\n",
       "         'Apple A8X1500 MHz(3 cores)': 184,\n",
       "         'ARM2660 MHz(6 cores)': 9,\n",
       "         'ARM MT8768WT2301 MHz(8 cores)': 3,\n",
       "         'Apple A9X2260 MHz(2 cores)': 127,\n",
       "         'ARM2657 MHz(6 cores)': 20,\n",
       "         'ARM ARMv81586 MHz(8 cores)': 15,\n",
       "         'ARM2662 MHz(6 cores)': 25,\n",
       "         'ARM MT81831989 MHz(8 cores)': 3,\n",
       "         'ARM lisa1804 MHz(8 cores)': 22,\n",
       "         'Qualcomm ARMv81804 MHz(8 cores)': 7,\n",
       "         'ARM1856 MHz(6 cores)': 1,\n",
       "         'Qualcomm Qualcomm2000 MHz(8 cores)': 5,\n",
       "         'Qualcomm Qualcomm1593 MHz(4 cores)': 4,\n",
       "         'ARMv81586 MHz(8 cores)': 13,\n",
       "         'ARM MT6771V/WT1989 MHz(8 cores)': 18,\n",
       "         'ARM Unisoc1200 MHz(8 cores)': 9,\n",
       "         'ARM MT6765V/WB2301 MHz(8 cores)': 4,\n",
       "         'ARM3219 MHz(6 cores)': 3,\n",
       "         'ARM MT6765G2301 MHz(8 cores)': 5,\n",
       "         'ARM MT6765V/CB2301 MHz(8 cores)': 10,\n",
       "         'Apple A10 Fusion1633 MHz(2 cores)': 30,\n",
       "         'placeholder2600 MHz(2 cores)': 1,\n",
       "         'Qualcomm Qualcomm1612 MHz(8 cores)': 14,\n",
       "         'Qualcomm Qualcomm1843 MHz(8 cores)': 30,\n",
       "         'ARM MT6893Z_D/CZA2000 MHz(8 cores)': 20,\n",
       "         'ARM MT6893Z/CZA2000 MHz(8 cores)': 24,\n",
       "         'ARM3223 MHz(6 cores)': 4,\n",
       "         'ARM Venus1804 MHz(8 cores)': 45,\n",
       "         'placeholder2803 MHz(8 cores)': 2,\n",
       "         'ARM Qualcomm1401 MHz(8 cores)': 6,\n",
       "         'ARM Star1804 MHz(8 cores)': 15,\n",
       "         'ARM MT6768V/CA1700 MHz(8 cores)': 13,\n",
       "         'ARM Samsung2002 MHz(8 cores)': 1,\n",
       "         'ARM MT6769T1800 MHz(8 cores)': 3,\n",
       "         'placeholder0 MHz(4 cores)': 2,\n",
       "         'ARM2655 MHz(6 cores)': 9,\n",
       "         'ARM Hisilicon2045 MHz(8 cores)': 5,\n",
       "         'Qualcomm Qualcomm2188 MHz(4 cores)': 6,\n",
       "         'ARM MT68932000 MHz(8 cores)': 11,\n",
       "         'vendor1882 MHz(8 cores)': 4,\n",
       "         'ARM MT6781V/CD2000 MHz(8 cores)': 1,\n",
       "         'ARM MT6779V/CV2000 MHz(8 cores)': 4,\n",
       "         'vendor1844 MHz(8 cores)': 1,\n",
       "         'ARM MT6769T2300 MHz(8 cores)': 1,\n",
       "         'ARM vendor2045 MHz(8 cores)': 21,\n",
       "         'ARM MT6833V/ZA2000 MHz(8 cores)': 1,\n",
       "         'ARM ARMv81844 MHz(8 cores)': 10,\n",
       "         'ARM Odin1804 MHz(8 cores)': 11,\n",
       "         'ARM2654 MHz(6 cores)': 7,\n",
       "         'ARM1858 MHz(6 cores)': 8,\n",
       "         'Hisilicon1863 MHz(8 cores)': 2,\n",
       "         'ARM ARMv81638 MHz(8 cores)': 8,\n",
       "         'ARM MT6833P2000 MHz(8 cores)': 6,\n",
       "         'ARM ARMv81989 MHz(8 cores)': 10,\n",
       "         'ARM MT6779V/CU2000 MHz(8 cores)': 2,\n",
       "         'ARM ARMv81512 MHz(6 cores)': 5,\n",
       "         'Qualcomm Qualcomm2000 MHz(6 cores)': 2,\n",
       "         'ARM MT6769V/CU1800 MHz(8 cores)': 3,\n",
       "         'ARM ARMv81800 MHz(8 cores)': 11,\n",
       "         'vendor1954 MHz(8 cores)': 6,\n",
       "         'ARM MT6739WA1274 MHz(4 cores)': 1,\n",
       "         'ARM MT6769V/CB1700 MHz(8 cores)': 7,\n",
       "         'placeholder0 MHz(8 cores)': 5,\n",
       "         'ARM MT6883Z/CZA2000 MHz(8 cores)': 1,\n",
       "         'ARM MT67812000 MHz(8 cores)': 1,\n",
       "         'ARM Unisoc1612 MHz(8 cores)': 10,\n",
       "         'ARM MT6893Z_C/CZA2000 MHz(8 cores)': 4,\n",
       "         'ARM SM73251804 MHz(8 cores)': 13,\n",
       "         'ARM MT6765H2301 MHz(8 cores)': 9,\n",
       "         'placeholder0 MHz(5 cores)': 2,\n",
       "         'ARM1377 MHz(6 cores)': 1,\n",
       "         'ARM ARMv81872 MHz(8 cores)': 4,\n",
       "         'ARM MT68912000 MHz(8 cores)': 2,\n",
       "         'placeholder3400 MHz(8 cores)': 3,\n",
       "         'ARM MT6762V/WR2001 MHz(8 cores)': 4,\n",
       "         'ARM MT6771V/C1989 MHz(8 cores)': 6,\n",
       "         'ARM3185 MHz(8 cores)': 1,\n",
       "         'ARM ARMv81690 MHz(8 cores)': 4,\n",
       "         'ARM Unisoc2002 MHz(8 cores)': 9,\n",
       "         'ARM MT6877V/ZA2000 MHz(8 cores)': 12,\n",
       "         'ARM MT8766B2001 MHz(4 cores)': 1,\n",
       "         'Qualcomm ARMv81516 MHz(4 cores)': 1,\n",
       "         'Hisilicon1882 MHz(8 cores)': 8,\n",
       "         'Hisilicon1954 MHz(8 cores)': 6,\n",
       "         'ARM3197 MHz(8 cores)': 2,\n",
       "         'ARM Unisoc2184 MHz(8 cores)': 71,\n",
       "         'ARM T700-Unisoc1820 MHz(8 cores)': 3,\n",
       "         'ARM2652 MHz(6 cores)': 1,\n",
       "         'Qualcomm ARMv81593 MHz(4 cores)': 2,\n",
       "         'ARM MT6769V/CZ1800 MHz(8 cores)': 7,\n",
       "         'ARM MT6833V/PNZA2000 MHz(8 cores)': 4,\n",
       "         'ARM MT6889Z/CZA2000 MHz(8 cores)': 11,\n",
       "         'ARM T610-Unisoc1820 MHz(8 cores)': 1,\n",
       "         'placeholder2900 MHz(8 cores)': 1,\n",
       "         'placeholder2803 MHz(4 cores)': 2,\n",
       "         'ARM MT8786V/CA1800 MHz(8 cores)': 4,\n",
       "         'ARM1859 MHz(6 cores)': 7,\n",
       "         'ARM3234 MHz(6 cores)': 4,\n",
       "         'ARM MT6771V/CT1989 MHz(8 cores)': 1,\n",
       "         'ARM Hisilicon1697 MHz(8 cores)': 3,\n",
       "         'ARM3226 MHz(6 cores)': 1,\n",
       "         'ARM3198 MHz(8 cores)': 8,\n",
       "         'ARM MT68332000 MHz(8 cores)': 1,\n",
       "         'ARM1372 MHz(6 cores)': 1,\n",
       "         'ARM MT8168A2001 MHz(4 cores)': 7,\n",
       "         'ARM ARMv81728 MHz(8 cores)': 1,\n",
       "         'ARM3193 MHz(8 cores)': 2,\n",
       "         'ARM3191 MHz(8 cores)': 1,\n",
       "         'ARM Mars1804 MHz(8 cores)': 1,\n",
       "         'ARM MT6877T2000 MHz(8 cores)': 3,\n",
       "         'ARM Kaiser1804 MHz(8 cores)': 1,\n",
       "         'placeholder0 MHz(12 cores)': 5,\n",
       "         'ARMv81882 MHz(8 cores)': 1,\n",
       "         'ARM2647 MHz(6 cores)': 1,\n",
       "         'Qualcomm ARMv80 MHz(8 cores)': 1,\n",
       "         'ARM3225 MHz(6 cores)': 1,\n",
       "         'placeholder3600 MHz(4 cores)': 1,\n",
       "         'ARM2531 MHz(6 cores)': 2,\n",
       "         'ARM MT6739WW1495 MHz(4 cores)': 2,\n",
       "         'ARM MT6853V/ZA2000 MHz(8 cores)': 3,\n",
       "         'ARM3235 MHz(6 cores)': 2,\n",
       "         'ARM3192 MHz(8 cores)': 3,\n",
       "         'placeholder0 MHz(32 cores)': 1,\n",
       "         'ARM MT6762V/WD1801 MHz(8 cores)': 1,\n",
       "         'Qualcomm Qualcomm0 MHz(8 cores)': 3,\n",
       "         'placeholder0 MHz(16 cores)': 1,\n",
       "         'ARM3196 MHz(8 cores)': 2,\n",
       "         'ARM3233 MHz(6 cores)': 2,\n",
       "         'ARM MT6762V/CA2001 MHz(8 cores)': 1,\n",
       "         'AC8257V/WAB2001 MHz(8 cores)': 1,\n",
       "         'ARM1378 MHz(6 cores)': 1,\n",
       "         'ARM2650 MHz(6 cores)': 2,\n",
       "         'ARM2646 MHz(6 cores)': 1,\n",
       "         'ARM3230 MHz(6 cores)': 2,\n",
       "         'ARM Qualcomm2016 MHz(4 cores)': 1})"
      ]
     },
     "execution_count": 28,
     "metadata": {},
     "output_type": "execute_result"
    }
   ],
   "source": [
    "systems"
   ]
  },
  {
   "cell_type": "code",
   "execution_count": 39,
   "metadata": {},
   "outputs": [
    {
     "data": {
      "text/plain": [
       "[<matplotlib.lines.Line2D at 0x1173c48e0>]"
      ]
     },
     "execution_count": 39,
     "metadata": {},
     "output_type": "execute_result"
    },
    {
     "data": {
      "image/png": "[encoded data removed]",
      "text/plain": [
       "<Figure size 432x288 with 1 Axes>"
      ]
     },
     "metadata": {
      "needs_background": "light"
     },
     "output_type": "display_data"
    }
   ],
   "source": [
    "import numpy as np\n",
    "\n",
    "stragglers = sorted(1 / s for s in scores)\n",
    "pyplot.plot(stragglers, range(len(stragglers)))"
   ]
  }
 ],
 "metadata": {
  "interpreter": {
   "hash": "949777d72b0d2535278d3dc13498b2535136f6dfe0678499012e853ee9abcab1"
  },
  "kernelspec": {
   "display_name": "Python 3.8.6 64-bit",
   "language": "python",
   "name": "python3"
  },
  "language_info": {
   "codemirror_mode": {
    "name": "ipython",
    "version": 3
   },
   "file_extension": ".py",
   "mimetype": "text/x-python",
   "name": "python",
   "nbconvert_exporter": "python",
   "pygments_lexer": "ipython3",
   "version": "3.8.6"
  },
  "orig_nbformat": 4
 },
 "nbformat": 4,
 "nbformat_minor": 2
}
